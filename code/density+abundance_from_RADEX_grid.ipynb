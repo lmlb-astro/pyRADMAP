{
 "cells": [
  {
   "cell_type": "code",
   "execution_count": null,
   "id": "3ebaaaa6-ca6b-4b8b-af78-a80bc3adc4c3",
   "metadata": {},
   "outputs": [],
   "source": [
    "import numpy as np\n",
    "import matplotlib.pyplot as plt\n",
    "import astropy.io.fits as pyfits\n",
    "import astropy.wcs as wcs\n",
    "\n",
    "from reproject import reproject_interp\n",
    "\n",
    "import sys\n",
    "import time\n",
    "\n",
    "# CAN ALSO WORK WITH PYPATH\n",
    "sys.path.insert(0,'libraries/')\n",
    "from colDens_phdu import ColDens_PrimaryHDU\n",
    "from regression_on_intensities import Regressor\n",
    "from molecule_hdulist import Molecule_HDUList\n",
    "import plotting_functions as plfunc"
   ]
  },
  {
   "cell_type": "code",
   "execution_count": null,
   "id": "a52e242c-c27f-4558-a9ae-771a2f372336",
   "metadata": {},
   "outputs": [],
   "source": [
    "#### USER INPUT ####\n",
    "\n",
    "## for the fits files to open\n",
    "file_name_1 = 'Ipeak_4sigmaMusca_C18O21_TP_kelvin_Smto10'\n",
    "path_1 = '../data/ALMA/fitting_results/'\n",
    "label_1 = 'C$^{18}$O(2-1)'\n",
    "cal_unc_1 = 0.1 ## 10%\n",
    "\n",
    "file_name_2 = 'Ipeak_4sigmaMusca_C18O10_TP_kelvin'\n",
    "path_2 = '../data/ALMA/fitting_results/'\n",
    "label_2 = 'C$^{18}$O(1-0)'\n",
    "cal_unc_2 = 0.1 ## 10%\n",
    "\n",
    "file_name_cont = 'musca_coldens_high250_clean_2d'\n",
    "path_cont = '../data/Herschel/'\n",
    "label_cont = 'N$_{H_{2}}$ (cm$^{-2}$)'\n",
    "\n",
    "## contour information\n",
    "levs_cont = [2.0e21 + i*1.0e21 for i in range(0,6)]\n",
    "wids_cont = [0.7 for lev in levs_cont]\n",
    "\n",
    "## information to map density with constraints from Herschel\n",
    "file_name_colDens = 'musca_coldens_high250_clean_2d'\n",
    "path_colDens = '../data/Herschel/'\n",
    "label_colDens = 'N$_{H_{2}}$ (cm$^{-2}$)'\n",
    "\n",
    "file_name_Tdust = 'musca_temp_r500_clean_2d'\n",
    "path_Tdust = '../data/Herschel/'\n",
    "label_Tdust = 'T$_{dust}$ (K)'\n",
    "\n",
    "## plotting information\n",
    "label_map = 'T$_{C^{18}O(2-1)}$/T$_{C^{18}O(1-0)}$'\n",
    "x1_pl = 60.\n",
    "x2_pl = 300.\n",
    "y1_pl = 25.\n",
    "y2_pl = 345.\n",
    "\n",
    "background_colDens = 1.0e21 ## the overall background of the region (Cox+2016; Bonne+2020b)\n",
    "max_colDens = 5.5e21 - background_colDens\n",
    "crest_colDens = 3.0e21 - background_colDens\n",
    "\n",
    "pc_in_cm = 3.09e18\n",
    "\n",
    "## information for the density calculation (fixed mol. col. density, linewidth and kinetic temperature)\n",
    "mol = 'c18o'\n",
    "line_1 = '2-1'\n",
    "line_2 = '1-0'\n",
    "fwhm = '0p25'\n",
    "fit_order = 4 ## order of the polynomial that will be fitted\n",
    "min_dens = 1e3\n",
    "max_dens = 1e4\n",
    "label_density = \"n$_{H_{2}}$ (cm$^{-3}$)\"\n",
    "standard_c18o_abundance = 1./(7.3*60*1e4)\n",
    "grid_path = '../Radex/bin/results/smallGrid-FWHM=0p25/'\n",
    "\n",
    "\n",
    "#### END OF THE USER INPUT"
   ]
  },
  {
   "cell_type": "code",
   "execution_count": null,
   "id": "bfe473f4-fb6b-40eb-ae29-7218f869693b",
   "metadata": {},
   "outputs": [],
   "source": [
    "## open the fits files\n",
    "hdu_1 = pyfits.open(path_1 + file_name_1 + '.fits')\n",
    "hdu_1.info()\n",
    "data_1 = hdu_1[0].data\n",
    "header_1 = hdu_1[0].header\n",
    "w_1 = wcs.WCS(header_1)\n",
    "\n",
    "hdu_2 = pyfits.open(path_2 + file_name_2 + '.fits')\n",
    "hdu_2.info()\n",
    "data_2 = hdu_2[0].data\n",
    "header_2 = hdu_2[0].header\n",
    "w_2 = wcs.WCS(header_2)\n",
    "\n",
    "hdu_3 = pyfits.open(path_cont + file_name_cont + '.fits')\n",
    "hdu_3.info()\n",
    "\n",
    "hdu_N = pyfits.open(path_colDens + file_name_colDens + '.fits')\n",
    "hdu_N.info()\n",
    "data_N = hdu_N[0].data\n",
    "header_N = hdu_N[0].header\n",
    "w_N = wcs.WCS(header_N)\n",
    "\n",
    "hdu_T = pyfits.open(path_Tdust + file_name_Tdust + '.fits')\n",
    "hdu_T.info()\n",
    "data_T = hdu_T[0].data\n",
    "header_T = hdu_T[0].header"
   ]
  },
  {
   "cell_type": "code",
   "execution_count": null,
   "id": "631521bd-05da-40fa-8873-e3c41999ac0f",
   "metadata": {},
   "outputs": [],
   "source": [
    "## reproject Herschel maps to the grid of the spectral line data\n",
    "arr_colDens, footprint_colDens = reproject_interp(hdu_N, header_1)\n",
    "arr_Tdust, footprint_Tdust = reproject_interp(hdu_T, header_1)"
   ]
  },
  {
   "cell_type": "code",
   "execution_count": null,
   "id": "c7433006-1663-4211-8d52-34370b5f8cb4",
   "metadata": {},
   "outputs": [],
   "source": [
    "## remove the background column density\n",
    "arr_colDens = arr_colDens - background_colDens\n",
    "data_N = data_N - background_colDens"
   ]
  },
  {
   "cell_type": "code",
   "execution_count": null,
   "id": "296afa88-e547-4924-b744-b0883c63ffdc",
   "metadata": {},
   "outputs": [],
   "source": [
    "## store the reprojected column density files in HDU format\n",
    "header_c = header_1.copy()\n",
    "header_c['BUNIT'] = header_N['BUNIT']\n",
    "colDens_hdu_rep = pyfits.HDUList(ColDens_PrimaryHDU(arr_colDens, header_c)) ## creates a HDU List specifically with the Column density extension\n",
    "\n",
    "header_c['BUNIT'] = header_T['BUNIT']\n",
    "Tdust_hdu_rep = pyfits.HDUList(pyfits.PrimaryHDU(arr_Tdust, header_c))\n",
    "\n",
    "hdu_N = pyfits.HDUList(pyfits.PrimaryHDU(data_N, header_N))"
   ]
  },
  {
   "cell_type": "code",
   "execution_count": null,
   "id": "0dfd577c-13aa-47d3-a919-5737eaef38c5",
   "metadata": {},
   "outputs": [],
   "source": [
    "## filter the Herschel images based on the ALMA images mask\n",
    "mask = np.zeros((len(data_1),len(data_1[0])), dtype=int)\n",
    "mask[np.isnan(data_1)] = 1\n",
    "colDens_hdu_rep[0].data[mask==1] = np.nan\n",
    "Tdust_hdu_rep[0].data[mask==1] = np.nan\n",
    "\n",
    "## verify\n",
    "plfunc.plot_hdu(colDens_hdu_rep, label_colDens, max_val = max_colDens, contour_hdu = hdu_3, plot_lims = [x1_pl,x2_pl,y1_pl,y2_pl], levs_cont = levs_cont, wids_cont = wids_cont)"
   ]
  },
  {
   "cell_type": "code",
   "execution_count": null,
   "id": "e7e2d52a-339c-48c8-915c-14689eeca8c7",
   "metadata": {},
   "outputs": [],
   "source": [
    "## create a C18O column density map\n",
    "#c18o_colDens_map = standard_c18o_abundance*arr_colDens\n",
    "c18o_colDens_hdu_rep = pyfits.HDUList(colDens_hdu_rep[0].get_mol_colDens(standard_c18o_abundance))\n",
    "\n",
    "## verify\n",
    "plfunc.plot_hdu(c18o_colDens_hdu_rep, 'N$_{C^{18}O}$ (cm$^{-2}$)', max_val = standard_c18o_abundance*max_colDens, contour_hdu = hdu_3, plot_lims = [x1_pl,x2_pl,y1_pl,y2_pl], levs_cont = levs_cont, wids_cont = wids_cont)"
   ]
  },
  {
   "cell_type": "code",
   "execution_count": null,
   "id": "8dec2bd2-ddac-4f03-a5e1-4aad96ef465e",
   "metadata": {},
   "outputs": [],
   "source": [
    "## store the molecular line data in a dedicated HDUList\n",
    "im_list = [hdu_1[0], hdu_2[0]]\n",
    "im_list_mol = Molecule_HDUList(im_list, mol, [line_1, line_2])\n",
    "print(im_list_mol.transitions)"
   ]
  },
  {
   "cell_type": "code",
   "execution_count": null,
   "id": "5792abe0-0340-4e4c-b2f3-1f705a38275c",
   "metadata": {},
   "outputs": [],
   "source": [
    "## create the Regressor\n",
    "regressor = Regressor()\n",
    "regressor2 = Regressor()\n",
    "regressor3 = Regressor()\n",
    "\n",
    "## create a model for the regressor based on the grid in the grid_path\n",
    "#regressor.create_dens_SVRregression_model_for_molecule(grid_path, im_list_mol, Tkin = 10.31, Nmol = 7.1e14)\n",
    "regressor.create_dens_SVRregression_model_for_molecule(grid_path, im_list_mol, Tkin = [10.31], Nmol = [11.5e14, 3.7e14, 7.1e14])\n",
    "#regressor.create_dens_SVRregression_model_for_molecule(grid_path, im_list_mol, Tkin = [10.31], Nmol = [7.1e14])\n",
    "\n",
    "## perform the above in a single step\n",
    "#outputs = regressor.map_from_dens_SVRregression(grid_path, im_list_mol, Tkin = 10.31, Nmol = 7.1e14)\n",
    "\n",
    "\n",
    "outputs2 = regressor2.map_from_dens_SVRregression(grid_path, im_list_mol, Tkin = [13.12], Nmol = [11.5e14, 3.7e14, 7.1e14], \n",
    "                                                  N_map = c18o_colDens_hdu_rep[0].data, interpolate = True, plot_verify_fitting = False)\n",
    "\n",
    "outputs3 = regressor3.map_from_dens_SVRregression(grid_path, im_list_mol, Tkin = [16.70], Nmol = [11.5e14, 3.7e14, 7.1e14], \n",
    "                                                  N_map = c18o_colDens_hdu_rep[0].data, interpolate = True, plot_verify_fitting = False)"
   ]
  },
  {
   "cell_type": "code",
   "execution_count": null,
   "id": "5cacd1e2-024b-40aa-9f22-45a044714de1",
   "metadata": {},
   "outputs": [],
   "source": [
    "# create_dens_SVRregression_model_for_molecule\n",
    "outputs = regressor.predict_map(im_list_mol, N_map = c18o_colDens_hdu_rep[0].data)"
   ]
  },
  {
   "cell_type": "code",
   "execution_count": null,
   "id": "788acdb8-a0be-4c4b-9f98-c15816184b24",
   "metadata": {},
   "outputs": [],
   "source": [
    "# predictions with interpolation\n",
    "outputs_interp = regressor.predict_map(im_list_mol, N_map = c18o_colDens_hdu_rep[0].data, interpolate = True)"
   ]
  },
  {
   "cell_type": "code",
   "execution_count": null,
   "id": "aeff6f97-9ad1-42c0-a335-c1ac853e66ab",
   "metadata": {},
   "outputs": [],
   "source": [
    "## plot the result at 10 K\n",
    "fig, ax = plt.subplots()\n",
    "ax1 = fig.add_subplot(111, projection = w_1)\n",
    "im = ax1.imshow(outputs[0].data, origin = 'lower', cmap = 'jet', vmax = 4)\n",
    "    \n",
    "ax1.contour(data_N, colors = 'k', levels = levs_cont, linewidths = wids_cont, transform=ax1.get_transform(w_N))\n",
    "            \n",
    "plt.xlim([x1_pl, x2_pl])\n",
    "plt.ylim([y1_pl, y2_pl])\n",
    "\n",
    "plt.xlabel('RA [J2000]')\n",
    "plt.ylabel('DEC [J2000]',labelpad=-1.)\n",
    "\n",
    "cbar = fig.colorbar(im)\n",
    "cbar.set_label('log[n$_{H_{2}}$ (cm$^{-3}$)]', labelpad=15.,rotation=270)\n",
    "\n",
    "ax.axis('off')\n",
    "\n",
    "#plt.savefig(\"../plots/ALMA_regression/density_T=10p3_N=7p1e14.pdf\")\n",
    "plt.show()"
   ]
  },
  {
   "cell_type": "code",
   "execution_count": null,
   "id": "b411596d-41e5-4733-b795-579a82492e50",
   "metadata": {},
   "outputs": [],
   "source": [
    "## plot the result at 10 K using interpolation\n",
    "fig, ax = plt.subplots()\n",
    "ax1 = fig.add_subplot(111, projection = w_1)\n",
    "im = ax1.imshow(outputs_interp[0].data, origin = 'lower', cmap = 'jet', vmax = 4)\n",
    "    \n",
    "ax1.contour(data_N, colors = 'k', levels = levs_cont, linewidths = wids_cont, transform = ax1.get_transform(w_N))\n",
    "            \n",
    "plt.xlim([x1_pl, x2_pl])\n",
    "plt.ylim([y1_pl, y2_pl])\n",
    "\n",
    "plt.xlabel('RA [J2000]')\n",
    "plt.ylabel('DEC [J2000]',labelpad=-1.)\n",
    "\n",
    "cbar = fig.colorbar(im)\n",
    "cbar.set_label('log[n$_{H_{2}}$ (cm$^{-3}$)]', labelpad=15.,rotation = 270)\n",
    "\n",
    "ax.axis('off')\n",
    "\n",
    "plt.show()"
   ]
  },
  {
   "cell_type": "code",
   "execution_count": null,
   "id": "0abbd27e-d143-4f1f-a0e8-7efe27b4763b",
   "metadata": {},
   "outputs": [],
   "source": [
    "## plot the result at 13 K\n",
    "fig, ax = plt.subplots()\n",
    "ax1 = fig.add_subplot(111, projection = w_1)\n",
    "im = ax1.imshow(outputs2[0].data, origin = 'lower', cmap = 'jet', vmax = 4)\n",
    "    \n",
    "ax1.contour(data_N, colors = 'k', levels = levs_cont, linewidths = wids_cont, transform=ax1.get_transform(w_N))\n",
    "            \n",
    "plt.xlim([x1_pl, x2_pl])\n",
    "plt.ylim([y1_pl, y2_pl])\n",
    "\n",
    "plt.xlabel('RA [J2000]')\n",
    "plt.ylabel('DEC [J2000]',labelpad=-1.)\n",
    "\n",
    "cbar = fig.colorbar(im)\n",
    "cbar.set_label('log[n$_{H_{2}}$ (cm$^{-3}$)]', labelpad=15.,rotation=270)\n",
    "\n",
    "ax.axis('off')\n",
    "\n",
    "#plt.savefig(\"../plots/ALMA_regression/density_T=10p3_N=7p1e14.pdf\")\n",
    "plt.show()"
   ]
  },
  {
   "cell_type": "code",
   "execution_count": null,
   "id": "e0fa11be-2766-447e-acf0-0192f8c82edf",
   "metadata": {},
   "outputs": [],
   "source": [
    "## plot the result at 16.7 K\n",
    "fig, ax = plt.subplots()\n",
    "ax1 = fig.add_subplot(111, projection = w_1)\n",
    "im = ax1.imshow(outputs3[0].data, origin = 'lower', cmap = 'jet', vmax = 4)\n",
    "    \n",
    "ax1.contour(data_N, colors = 'k', levels = levs_cont, linewidths = wids_cont, transform=ax1.get_transform(w_N))\n",
    "            \n",
    "plt.xlim([x1_pl, x2_pl])\n",
    "plt.ylim([y1_pl, y2_pl])\n",
    "\n",
    "plt.xlabel('RA [J2000]')\n",
    "plt.ylabel('DEC [J2000]',labelpad=-1.)\n",
    "\n",
    "cbar = fig.colorbar(im)\n",
    "cbar.set_label('log[n$_{H_{2}}$ (cm$^{-3}$)]', labelpad=15.,rotation=270)\n",
    "\n",
    "ax.axis('off')\n",
    "\n",
    "#plt.savefig(\"../plots/ALMA_regression/density_T=10p3_N=7p1e14.pdf\")\n",
    "plt.show()"
   ]
  },
  {
   "cell_type": "code",
   "execution_count": null,
   "id": "464e0d79-2534-4a81-8025-b9df0317e75d",
   "metadata": {},
   "outputs": [],
   "source": [
    "## compare the density results with and without interpolation\n",
    "rho = outputs[0].data.ravel()\n",
    "rho_interp = outputs_interp[0].data.ravel()\n",
    "\n",
    "bins = [1.8 + i*0.05 for i in range(0, 50)]\n",
    "\n",
    "plt.hist(rho, bins = bins, alpha = 0.4, label = 'no interp.')\n",
    "plt.hist(rho_interp, bins = bins, alpha = 0.4, label = 'interp.')\n",
    "\n",
    "plt.xlabel('log[n$_{H_{2}}$ (cm$^{-3}$)]')\n",
    "plt.ylabel('count')\n",
    "\n",
    "plt.legend()\n",
    "plt.show()"
   ]
  },
  {
   "cell_type": "code",
   "execution_count": null,
   "id": "7f399e9e-5d5d-4cb8-870c-8588993a2061",
   "metadata": {},
   "outputs": [],
   "source": [
    "## depth in the line-of-sight (LOS)\n",
    "## Assuming cylinder is well resolved, so can do N/n\n",
    "los_map = arr_colDens/(10.**outputs_interp[0].data)/pc_in_cm\n",
    "\n",
    "## store in hdu\n",
    "header_c['BUNIT'] = 'log10[LOS (pc)]'\n",
    "los_log_hdu = pyfits.HDUList(ColDens_PrimaryHDU(np.log10(los_map), header_c))"
   ]
  },
  {
   "cell_type": "code",
   "execution_count": null,
   "id": "44c71c4b-dbca-4299-a0c7-58195ce25c99",
   "metadata": {},
   "outputs": [],
   "source": [
    "## plot the LOS depth map on a logscale\n",
    "plfunc.plot_hdu(los_log_hdu, 'log$_{10}$[LOS depth (pc)]', contour_hdu = hdu_3, min_val = np.log10(0.05), max_val = np.log10(3.0),\n",
    "                plot_lims = [x1_pl,x2_pl,y1_pl,y2_pl], levs_cont = levs_cont, wids_cont = wids_cont)"
   ]
  },
  {
   "cell_type": "code",
   "execution_count": null,
   "id": "10f3bdee-afd8-42ba-954e-195dd2cd6362",
   "metadata": {},
   "outputs": [],
   "source": [
    "## Overview of the depth in the map\n",
    "## to 1D\n",
    "los_arr = los_map.ravel()\n",
    "\n",
    "## plot mean median\n",
    "print(np.nanmedian(los_arr))\n",
    "print(np.nanmean(los_arr))\n",
    "\n",
    "## histogram of LOS depths\n",
    "plt.hist(los_arr, bins = int( np.sqrt(len(los_arr)) + 0.5))\n",
    "\n",
    "plt.xscale('log')\n",
    "plt.xlabel('LOS depth (pc)')\n",
    "plt.ylabel('count')\n",
    "plt.show()"
   ]
  },
  {
   "cell_type": "code",
   "execution_count": null,
   "id": "2af89b85-4beb-4c08-ab2c-e899cff592f5",
   "metadata": {},
   "outputs": [],
   "source": [
    "## create a map with data from the crest and the ambient gas and store in a HDU\n",
    "crest_los_map = los_map.copy()  ## filament crest\n",
    "crest_los_map[arr_colDens < crest_colDens] = np.nan\n",
    "header_c['BUNIT'] = 'LOS (pc)'\n",
    "crest_los_hdu = pyfits.HDUList(ColDens_PrimaryHDU(crest_los_map, header_c))\n",
    "\n",
    "ambient_los_map = los_map.copy() ## ambient gas\n",
    "ambient_los_map[arr_colDens > crest_colDens] = np.nan\n",
    "header_c['BUNIT'] = 'LOS (pc)'\n",
    "ambient_los_hdu = pyfits.HDUList(ColDens_PrimaryHDU(ambient_los_map, header_c))"
   ]
  },
  {
   "cell_type": "code",
   "execution_count": null,
   "id": "29165a48-02fc-4d29-b334-7c01ccc55feb",
   "metadata": {},
   "outputs": [],
   "source": [
    "## plot the LOS depth map of the crest\n",
    "plfunc.plot_hdu(crest_los_hdu, 'LOS depth (pc)', contour_hdu = hdu_3, max_val = 3., \n",
    "                plot_lims = [x1_pl,x2_pl,y1_pl,y2_pl], levs_cont = levs_cont, wids_cont = wids_cont)"
   ]
  },
  {
   "cell_type": "code",
   "execution_count": null,
   "id": "6d78fff6-706c-433c-9560-db331e4e6ab6",
   "metadata": {},
   "outputs": [],
   "source": [
    "## to 1D\n",
    "crest_los_arr = crest_los_map.ravel()\n",
    "\n",
    "## plot mean median\n",
    "print(np.nanmedian(crest_los_arr))\n",
    "print(np.nanmean(crest_los_arr))\n",
    "\n",
    "## histogram of LOS depths\n",
    "plt.hist(crest_los_arr, bins = int(np.sqrt(len(crest_los_arr)) + 0.5))\n",
    "\n",
    "plt.title('Filament crest')\n",
    "plt.xscale('log')\n",
    "plt.xlabel('LOS depth (pc)')\n",
    "plt.ylabel('count')\n",
    "plt.show()"
   ]
  },
  {
   "cell_type": "code",
   "execution_count": null,
   "id": "ab4ca5e1-db57-4580-9fe2-621dc64f967b",
   "metadata": {},
   "outputs": [],
   "source": [
    "## plot the LOS depth map of the ambient gas\n",
    "plfunc.plot_hdu(ambient_los_hdu, 'LOS depth (pc)', contour_hdu = hdu_3, \n",
    "                plot_lims = [x1_pl,x2_pl,y1_pl,y2_pl], levs_cont = levs_cont, wids_cont = wids_cont)"
   ]
  },
  {
   "cell_type": "code",
   "execution_count": null,
   "id": "da1019a2-1f37-4d67-99ac-61392cef25f7",
   "metadata": {},
   "outputs": [],
   "source": [
    "## to 1D\n",
    "ambient_los_arr = ambient_los_map.ravel()\n",
    "\n",
    "## plot mean median\n",
    "print(np.nanmedian(ambient_los_arr))\n",
    "print(np.nanmean(ambient_los_arr))\n",
    "\n",
    "## histogram of LOS depths\n",
    "plt.hist(ambient_los_arr, bins = int(np.sqrt(len(ambient_los_arr)) + 0.5))\n",
    "\n",
    "plt.title('Ambient gas')\n",
    "plt.xscale('log')\n",
    "plt.xlabel('LOS depth (pc)')\n",
    "plt.ylabel('count')\n",
    "plt.show()"
   ]
  },
  {
   "cell_type": "code",
   "execution_count": null,
   "id": "ff24efed-24aa-4d40-8674-25ac4dd18947",
   "metadata": {},
   "outputs": [],
   "source": [
    "## TO DO: Also plot the densities for the crest and ambient gas"
   ]
  },
  {
   "cell_type": "code",
   "execution_count": null,
   "id": "d00f1765-edce-4d00-911f-7d4a5f1c04cf",
   "metadata": {},
   "outputs": [],
   "source": [
    "#### test exceptions ####\n",
    "\n",
    "## Test Nmol verification\n",
    "#regressor.create_dens_SVRregression_model_for_molecule(grid_path, im_list_mol, Tkin = 10.31, Nmol = 12.3e19)\n",
    "\n",
    "## Test Tkin verification\n",
    "#regressor.create_dens_SVRregression_model_for_molecule(grid_path, im_list_mol, Tkin = 55., Nmol = 7.1e14)"
   ]
  }
 ],
 "metadata": {
  "kernelspec": {
   "display_name": "Python 3 (ipykernel)",
   "language": "python",
   "name": "python3"
  },
  "language_info": {
   "codemirror_mode": {
    "name": "ipython",
    "version": 3
   },
   "file_extension": ".py",
   "mimetype": "text/x-python",
   "name": "python",
   "nbconvert_exporter": "python",
   "pygments_lexer": "ipython3",
   "version": "3.11.4"
  }
 },
 "nbformat": 4,
 "nbformat_minor": 5
}
